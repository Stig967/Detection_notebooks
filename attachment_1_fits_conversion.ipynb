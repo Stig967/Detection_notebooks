{
 "cells": [
  {
   "cell_type": "code",
   "execution_count": null,
   "metadata": {},
   "outputs": [],
   "source": [
    "import astropy.io\n",
    "import sys\n",
    "import numpy as np\n",
    "from astropy.io import fits\n",
    "import os\n",
    "import glob\n",
    "from PIL import Image"
   ]
  },
  {
   "cell_type": "markdown",
   "metadata": {},
   "source": [
    "# Create links to download and save directories"
   ]
  },
  {
   "cell_type": "code",
   "execution_count": null,
   "metadata": {},
   "outputs": [],
   "source": [
    "def build_list_of_urls(number_of_objects):\n",
    "    url_adresses = []\n",
    "    url_adresses_begin = 'https://archive.stsci.edu/cgi-bin/dss_form?target='\n",
    "    url_adresses_end = '&resolver=SIMBAD'\n",
    "    for i in range(number_of_objects):\n",
    "        category = 'M'+str(i+1)\n",
    "        url = url_adresses_begin+category+url_adresses_end\n",
    "        url_adresses.append(url)\n",
    "    return url_adresses\n",
    "        \n",
    "def build_catalog_with_categories(path_to_data, number_of_objects):\n",
    "    for i in range(number_of_objects):\n",
    "        category = 'M'+str(i+1)\n",
    "        path_to_category = os.path.join(path_to_data,category) \n",
    "        #print(path_to_category)\n",
    "        os.mkdir(path_to_category)\n",
    "    \n",
    "    \n",
    "    \n",
    "number_of_m_objects = 110\n",
    "list_of_links = build_list_of_urls(number_of_m_objects)        \n",
    "path_to_data = 'C:\\messier_detection\\data_fits_110_n\\patterns'\n",
    "build_catalog_with_categories(path_to_data,number_of_m_objects)           "
   ]
  },
  {
   "cell_type": "markdown",
   "metadata": {},
   "source": [
    "# Conversion to .jpg format"
   ]
  },
  {
   "cell_type": "code",
   "execution_count": null,
   "metadata": {},
   "outputs": [],
   "source": [
    "data_fits_list = glob.glob('C:\\PATH_TO_FITS\\*')\n",
    "data_list = glob.glob('C:\\PATH_TO_OUT_FILES\\*')\n",
    "\n",
    "\n",
    "for fits_file, jpg_file in zip(data_fits_list,data_list):\n",
    "\n",
    "    vmax = 5.4e4\n",
    "    vmin = 0  \n",
    "    list_elems = glob.glob(fits_file+'\\*')\n",
    "    \n",
    "    for i, f_file in enumerate(list_elems):\n",
    "        print(f_file)\n",
    "        print(i+1)\n",
    "        \n",
    "        data = fits.open(f_file)[0].data\n",
    "\n",
    "        if data is None:\n",
    "            data = fits.open(f_file)[1].data        \n",
    "        \n",
    "        data[data > vmax] = vmax\n",
    "        data[data < vmin] = vmin\n",
    "        data = (data - vmin)/(vmax - vmin)\n",
    "        data = (255*data).astype(np.uint8)\n",
    "        data = data[::-1, :]\n",
    "        image = Image.fromarray(data, 'L')\n",
    "        file = jpg_file+'\\\\'+str(i+1)+'.jpg'\n",
    "        print('name: ',file)\n",
    "        image.save(file)\n",
    "        "
   ]
  }
 ],
 "metadata": {
  "kernelspec": {
   "display_name": "Python 3",
   "language": "python",
   "name": "python3"
  },
  "language_info": {
   "codemirror_mode": {
    "name": "ipython",
    "version": 3
   },
   "file_extension": ".py",
   "mimetype": "text/x-python",
   "name": "python",
   "nbconvert_exporter": "python",
   "pygments_lexer": "ipython3",
   "version": "3.7.7"
  }
 },
 "nbformat": 4,
 "nbformat_minor": 4
}
