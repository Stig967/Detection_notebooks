{
 "cells": [
  {
   "cell_type": "code",
   "execution_count": null,
   "metadata": {},
   "outputs": [],
   "source": [
    "import os\n",
    "import io\n",
    "import pandas as pd\n",
    "import tensorflow as tf\n",
    "from tensorflow import train\n",
    "from PIL import Image\n",
    "from object_detection.utils import dataset_util\n",
    "from collections import namedtuple, OrderedDict"
   ]
  },
  {
   "cell_type": "markdown",
   "metadata": {},
   "source": [
    "# Generowanie na podstawie katalogów pliku kategorii .pbtxt"
   ]
  },
  {
   "cell_type": "code",
   "execution_count": null,
   "metadata": {},
   "outputs": [],
   "source": [
    "TRAIN_DIR = 'C:\\messier_detection\\data_110\\categories_110'\n",
    "\n",
    "LABELS_DIR = [ x for x in os.listdir(TRAIN_DIR) ]\n",
    "LABELS  = [n+1 for n in range(len(LABELS_DIR))]\n",
    "\n",
    "labels_to_num_dict = dict(zip(LABELS_DIR, LABELS))"
   ]
  },
  {
   "cell_type": "code",
   "execution_count": null,
   "metadata": {},
   "outputs": [],
   "source": [
    "len(labels_to_num_dict)"
   ]
  },
  {
   "cell_type": "code",
   "execution_count": null,
   "metadata": {},
   "outputs": [],
   "source": [
    "def generate_pbtxt_mapping_file(path_to_file, mapping_dict):\n",
    "    with open(path_to_file,\"w+\") as file:\n",
    "        for category_name, category_id in mapping_dict.items():\n",
    "            line = (\"item {\\n\"\n",
    "                    \"\\tid: \"+str(category_id) +\"\\n\"\n",
    "                    \"\\tname: '\"+category_name +\"'\\n\"\n",
    "                    \"}\\n\")\n",
    "            file.write(line)\n"
   ]
  },
  {
   "cell_type": "code",
   "execution_count": null,
   "metadata": {},
   "outputs": [],
   "source": [
    "print(len(labels_to_num_dict))\n",
    "path_to_pbtxt = 'PATH_TO_SAVE_FILE/categories.pbtxt'\n",
    "generate_pbtxt_mapping_file(path_to_pbtxt, labels_to_num_dict)"
   ]
  },
  {
   "cell_type": "markdown",
   "metadata": {},
   "source": [
    "# Definicja funkcji generujących pliki .tfrecord"
   ]
  },
  {
   "cell_type": "code",
   "execution_count": null,
   "metadata": {},
   "outputs": [],
   "source": [
    "def split(df, group):\n",
    "    data = namedtuple('data', ['img_file', 'object'])\n",
    "    gb = df.groupby(group)\n",
    "    return [data(img_file, gb.get_group(obj)) for img_file, obj in zip(gb.groups.keys(), gb.groups)]\n",
    "\n",
    "def create_tf_example(category_to_id_dict, group, path):\n",
    "    with tf.io.gfile.GFile(os.path.join(path, '{}'.format(group.img_file)), 'rb') as fid:\n",
    "        encoded_jpg = fid.read()\n",
    "    encoded_jpg_io = io.BytesIO(encoded_jpg)\n",
    "    image = Image.open(encoded_jpg_io)\n",
    "    width, height = image.size\n",
    "\n",
    "    filename = group.img_file.encode('utf8')\n",
    "    image_format = b'jpg'\n",
    "    xmins = []\n",
    "    xmaxs = []\n",
    "    ymins = []\n",
    "    ymaxs = []\n",
    "    classes_text = []\n",
    "    classes = []\n",
    "\n",
    "    for index, row in group.object.iterrows():\n",
    "        xmins.append(row['xmin'] / width)\n",
    "        xmaxs.append(row['xmax'] / width)\n",
    "        ymins.append(row['ymin'] / height)\n",
    "        ymaxs.append(row['ymax'] / height)\n",
    "        classes_text.append(row['category'].encode('utf8'))\n",
    "        classes.append(category_to_id_dict[row['category']])\n",
    "\n",
    "    tf_example = tf.train.Example(features=tf.train.Features(feature={\n",
    "        'image/height': dataset_util.int64_feature(height),\n",
    "        'image/width': dataset_util.int64_feature(width),\n",
    "        'image/filename': dataset_util.bytes_feature(filename),\n",
    "        'image/source_id': dataset_util.bytes_feature(filename),\n",
    "        'image/encoded': dataset_util.bytes_feature(encoded_jpg),\n",
    "        'image/format': dataset_util.bytes_feature(image_format),\n",
    "        'image/object/bbox/xmin': dataset_util.float_list_feature(xmins),\n",
    "        'image/object/bbox/xmax': dataset_util.float_list_feature(xmaxs),\n",
    "        'image/object/bbox/ymin': dataset_util.float_list_feature(ymins),\n",
    "        'image/object/bbox/ymax': dataset_util.float_list_feature(ymaxs),\n",
    "        'image/object/class/text': dataset_util.bytes_list_feature(classes_text),\n",
    "        'image/object/class/label': dataset_util.int64_list_feature(classes),\n",
    "    }))\n",
    "    return tf_example"
   ]
  },
  {
   "cell_type": "markdown",
   "metadata": {},
   "source": [
    "# Generacja na postawie dostarczonych plików rekordów .tfrec"
   ]
  },
  {
   "cell_type": "code",
   "execution_count": null,
   "metadata": {},
   "outputs": [],
   "source": [
    "data_set_path = 'PATH_TO_SAVE_TF_RECORDS/train_records.tfrecord'\n",
    "path = 'PATH_TO_INPUT_DATA'\n",
    "csv_path = path+'/train.csv'\n",
    "\n",
    "    \n",
    "tf_record_writer = tf.io.TFRecordWriter(data_set_path)\n",
    "examples = pd.read_csv(csv_path)\n",
    "grouped = split(examples, 'img_file')\n",
    "for group in grouped:\n",
    "    tf_example = create_tf_example(labels_to_num_dict,group, path)\n",
    "    tf_record_writer.write(tf_example.SerializeToString())\n",
    "\n",
    "tf_record_writer.close()"
   ]
  }
 ],
 "metadata": {
  "kernelspec": {
   "display_name": "Python 3",
   "language": "python",
   "name": "python3"
  },
  "language_info": {
   "codemirror_mode": {
    "name": "ipython",
    "version": 3
   },
   "file_extension": ".py",
   "mimetype": "text/x-python",
   "name": "python",
   "nbconvert_exporter": "python",
   "pygments_lexer": "ipython3",
   "version": "3.7.7"
  }
 },
 "nbformat": 4,
 "nbformat_minor": 4
}
